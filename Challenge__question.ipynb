{
  "nbformat": 4,
  "nbformat_minor": 0,
  "metadata": {
    "colab": {
      "provenance": [],
      "authorship_tag": "ABX9TyPvWKB05rd6767gzfijWOl4",
      "include_colab_link": true
    },
    "kernelspec": {
      "name": "python3",
      "display_name": "Python 3"
    },
    "language_info": {
      "name": "python"
    }
  },
  "cells": [
    {
      "cell_type": "markdown",
      "metadata": {
        "id": "view-in-github",
        "colab_type": "text"
      },
      "source": [
        "<a href=\"https://colab.research.google.com/github/sirat98/challenge_question/blob/main/Challenge__question.ipynb\" target=\"_parent\"><img src=\"https://colab.research.google.com/assets/colab-badge.svg\" alt=\"Open In Colab\"/></a>"
      ]
    },
    {
      "cell_type": "code",
      "execution_count": 2,
      "metadata": {
        "colab": {
          "base_uri": "https://localhost:8080/"
        },
        "id": "FwYV94MMZA_2",
        "outputId": "26220f55-0c10-4cfe-9012-a84e97e238b9"
      },
      "outputs": [
        {
          "output_type": "stream",
          "name": "stdout",
          "text": [
            "original list ['ram', '1', 'shyam', '2', 'aman', '3']\n",
            "list after sorting ['1', '2', '3', 'aman', 'ram', 'shyam']\n",
            "final answer [1, 2, 3, 'aman', 'ram', 'shyam']\n"
          ]
        }
      ],
      "source": [
        "#que :WRITE A PYTHON PROGRAM TO SORT THE LIST CONTAINING HETEROGENEOUS DATA\n",
        "L=[\"ram\",1,\"shyam\",2,\"aman\",3]\n",
        "L=[str(i) for i in L]\n",
        "print(\"original list\",L)\n",
        "L.sort()\n",
        "print(\"list after sorting\",L)\n",
        "L1=[]\n",
        "for i in L:\n",
        "    try:\n",
        "        L1.append(int (i))\n",
        "    except:\n",
        "        L1.append(i)\n",
        "print(\"final answer\",L1)\n"
      ]
    }
  ]
}